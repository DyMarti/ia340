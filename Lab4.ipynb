{
 "cells": [
  {
   "cell_type": "markdown",
   "id": "805a0754",
   "metadata": {},
   "source": [
    "# Lab 4"
   ]
  },
  {
   "cell_type": "markdown",
   "id": "2504b8bb",
   "metadata": {},
   "source": [
    "## Import libraries and connect to database"
   ]
  },
  {
   "cell_type": "code",
   "execution_count": 7,
   "id": "7be8c27a",
   "metadata": {},
   "outputs": [
    {
     "name": "stderr",
     "output_type": "stream",
     "text": [
      "/home/ec2-user/anaconda3/envs/python3/lib/python3.6/site-packages/psycopg2/__init__.py:144: UserWarning: The psycopg2 wheel package will be renamed from release 2.8; in order to keep installing from binary please use \"pip install psycopg2-binary\" instead. For details see: <http://initd.org/psycopg/docs/install.html#binary-install-from-pypi>.\n",
      "  \"\"\")\n"
     ]
    }
   ],
   "source": [
    "import pandas\n",
    "import configparser\n",
    "import psycopg2"
   ]
  },
  {
   "cell_type": "code",
   "execution_count": 8,
   "id": "ba7595e7",
   "metadata": {},
   "outputs": [],
   "source": [
    "config = configparser.ConfigParser()\n",
    "config.read('config.ini')\n",
    "\n",
    "host=config['myaws']['host']\n",
    "db=config['myaws']['db']\n",
    "user=config['myaws']['user']\n",
    "pwd = config['myaws']['pwd']\n",
    "\n",
    "conn = psycopg2.connect(  host=host,\n",
    "                       user=user,\n",
    "                       password = pwd,\n",
    "                       dbname=db)"
   ]
  },
  {
   "cell_type": "code",
   "execution_count": 9,
   "id": "45f02b78",
   "metadata": {},
   "outputs": [],
   "source": [
    "cur=conn.cursor()"
   ]
  },
  {
   "cell_type": "markdown",
   "id": "f7affa85",
   "metadata": {},
   "source": [
    "## Q1: Use pandas to display all records in the student table"
   ]
  },
  {
   "cell_type": "code",
   "execution_count": 10,
   "id": "ee79b273",
   "metadata": {},
   "outputs": [],
   "source": [
    "sql_q1 = \"\"\" select * from gp9.student\"\"\""
   ]
  },
  {
   "cell_type": "code",
   "execution_count": 11,
   "id": "2ec32d74",
   "metadata": {},
   "outputs": [
    {
     "data": {
      "text/html": [
       "<div>\n",
       "<style scoped>\n",
       "    .dataframe tbody tr th:only-of-type {\n",
       "        vertical-align: middle;\n",
       "    }\n",
       "\n",
       "    .dataframe tbody tr th {\n",
       "        vertical-align: top;\n",
       "    }\n",
       "\n",
       "    .dataframe thead th {\n",
       "        text-align: right;\n",
       "    }\n",
       "</style>\n",
       "<table border=\"1\" class=\"dataframe\">\n",
       "  <thead>\n",
       "    <tr style=\"text-align: right;\">\n",
       "      <th></th>\n",
       "      <th>studentemail</th>\n",
       "      <th>studentname</th>\n",
       "      <th>major</th>\n",
       "    </tr>\n",
       "  </thead>\n",
       "  <tbody>\n",
       "    <tr>\n",
       "      <th>0</th>\n",
       "      <td>BJ@jmu</td>\n",
       "      <td>Bobby Joe</td>\n",
       "      <td>Intelligence Analysis</td>\n",
       "    </tr>\n",
       "    <tr>\n",
       "      <th>1</th>\n",
       "      <td>SS@jmu</td>\n",
       "      <td>Sapna Seth</td>\n",
       "      <td>Data Miner</td>\n",
       "    </tr>\n",
       "    <tr>\n",
       "      <th>2</th>\n",
       "      <td>OM@jmu</td>\n",
       "      <td>O'brine Martin</td>\n",
       "      <td>Puppies N' Kittens</td>\n",
       "    </tr>\n",
       "    <tr>\n",
       "      <th>3</th>\n",
       "      <td>CM@jmu</td>\n",
       "      <td>Caroline Marti</td>\n",
       "      <td>Art History and Cyber Security</td>\n",
       "    </tr>\n",
       "    <tr>\n",
       "      <th>4</th>\n",
       "      <td>DS@jmu</td>\n",
       "      <td>Dylan Shaffer</td>\n",
       "      <td>Intelligence Analysis</td>\n",
       "    </tr>\n",
       "    <tr>\n",
       "      <th>5</th>\n",
       "      <td>CW@jmu</td>\n",
       "      <td>Corinne Wilkerson</td>\n",
       "      <td>Artificial Intelligence</td>\n",
       "    </tr>\n",
       "    <tr>\n",
       "      <th>6</th>\n",
       "      <td>GH@jmu</td>\n",
       "      <td>Gavin Hasnoui</td>\n",
       "      <td>Reading Thinking and Writing</td>\n",
       "    </tr>\n",
       "    <tr>\n",
       "      <th>7</th>\n",
       "      <td>DC@jmu</td>\n",
       "      <td>Dmitri Custode</td>\n",
       "      <td>Computer Science</td>\n",
       "    </tr>\n",
       "    <tr>\n",
       "      <th>8</th>\n",
       "      <td>GR@jmu</td>\n",
       "      <td>Garrett Revelli</td>\n",
       "      <td>Geographic Science</td>\n",
       "    </tr>\n",
       "    <tr>\n",
       "      <th>9</th>\n",
       "      <td>RL@jmu</td>\n",
       "      <td>Robert Lee</td>\n",
       "      <td>Intelligence Analysis</td>\n",
       "    </tr>\n",
       "    <tr>\n",
       "      <th>10</th>\n",
       "      <td>new_s_e</td>\n",
       "      <td>new_s_n</td>\n",
       "      <td>new_s_m</td>\n",
       "    </tr>\n",
       "  </tbody>\n",
       "</table>\n",
       "</div>"
      ],
      "text/plain": [
       "   studentemail        studentname                           major\n",
       "0        BJ@jmu          Bobby Joe           Intelligence Analysis\n",
       "1        SS@jmu         Sapna Seth                      Data Miner\n",
       "2        OM@jmu     O'brine Martin              Puppies N' Kittens\n",
       "3        CM@jmu     Caroline Marti  Art History and Cyber Security\n",
       "4        DS@jmu      Dylan Shaffer           Intelligence Analysis\n",
       "5        CW@jmu  Corinne Wilkerson         Artificial Intelligence\n",
       "6        GH@jmu      Gavin Hasnoui    Reading Thinking and Writing\n",
       "7        DC@jmu     Dmitri Custode                Computer Science\n",
       "8        GR@jmu    Garrett Revelli              Geographic Science\n",
       "9        RL@jmu         Robert Lee           Intelligence Analysis\n",
       "10      new_s_e            new_s_n                         new_s_m"
      ]
     },
     "execution_count": 11,
     "metadata": {},
     "output_type": "execute_result"
    }
   ],
   "source": [
    "df=pandas.read_sql_query(sql_q1,conn)\n",
    "df[:]"
   ]
  },
  {
   "cell_type": "markdown",
   "id": "4be5ba9f",
   "metadata": {},
   "source": [
    "## Q2: Use pandas to display teacher names and corresponding course names jointly"
   ]
  },
  {
   "cell_type": "code",
   "execution_count": 12,
   "id": "2d762fa3",
   "metadata": {},
   "outputs": [],
   "source": [
    "sql_q2 = \"\"\" select gp9.professor.professorname, \n",
    "            gp9.course.coursename \n",
    "            from gp9.professor\n",
    "            inner join gp9.course\n",
    "            on professor.professoremail = course.professoremail\"\"\""
   ]
  },
  {
   "cell_type": "code",
   "execution_count": 13,
   "id": "d62ee1c2",
   "metadata": {},
   "outputs": [
    {
     "data": {
      "text/html": [
       "<div>\n",
       "<style scoped>\n",
       "    .dataframe tbody tr th:only-of-type {\n",
       "        vertical-align: middle;\n",
       "    }\n",
       "\n",
       "    .dataframe tbody tr th {\n",
       "        vertical-align: top;\n",
       "    }\n",
       "\n",
       "    .dataframe thead th {\n",
       "        text-align: right;\n",
       "    }\n",
       "</style>\n",
       "<table border=\"1\" class=\"dataframe\">\n",
       "  <thead>\n",
       "    <tr style=\"text-align: right;\">\n",
       "      <th></th>\n",
       "      <th>professorname</th>\n",
       "      <th>coursename</th>\n",
       "    </tr>\n",
       "  </thead>\n",
       "  <tbody>\n",
       "    <tr>\n",
       "      <th>0</th>\n",
       "      <td>Danzell</td>\n",
       "      <td>AML</td>\n",
       "    </tr>\n",
       "    <tr>\n",
       "      <th>1</th>\n",
       "      <td>Hendrickson</td>\n",
       "      <td>Futures</td>\n",
       "    </tr>\n",
       "    <tr>\n",
       "      <th>2</th>\n",
       "      <td>Marrin</td>\n",
       "      <td>Seminar</td>\n",
       "    </tr>\n",
       "    <tr>\n",
       "      <th>3</th>\n",
       "      <td>Wei</td>\n",
       "      <td>Data Mining</td>\n",
       "    </tr>\n",
       "    <tr>\n",
       "      <th>4</th>\n",
       "      <td>McTeacher</td>\n",
       "      <td>Fluid Dynamics</td>\n",
       "    </tr>\n",
       "    <tr>\n",
       "      <th>5</th>\n",
       "      <td>McTeacher</td>\n",
       "      <td>Hypothesis Testing</td>\n",
       "    </tr>\n",
       "  </tbody>\n",
       "</table>\n",
       "</div>"
      ],
      "text/plain": [
       "  professorname          coursename\n",
       "0       Danzell                 AML\n",
       "1   Hendrickson             Futures\n",
       "2        Marrin             Seminar\n",
       "3           Wei         Data Mining\n",
       "4     McTeacher      Fluid Dynamics\n",
       "5     McTeacher  Hypothesis Testing"
      ]
     },
     "execution_count": 13,
     "metadata": {},
     "output_type": "execute_result"
    }
   ],
   "source": [
    "df=pandas.read_sql_query(sql_q2,conn)\n",
    "df[:]"
   ]
  },
  {
   "cell_type": "markdown",
   "id": "c62a8beb",
   "metadata": {},
   "source": [
    "## Q3: Use pandas to create a bar chart showing the number of enrolled students by each course number"
   ]
  },
  {
   "cell_type": "code",
   "execution_count": 14,
   "id": "52e85fa7",
   "metadata": {},
   "outputs": [],
   "source": [
    "sql_q3 = \"\"\" select coursenumber,\n",
    "            count(coursenumber) as enrolled\n",
    "            from gp9.enroll_list\n",
    "            group by coursenumber\n",
    "            order by enrolled desc\"\"\""
   ]
  },
  {
   "cell_type": "code",
   "execution_count": 15,
   "id": "e3eff1a0",
   "metadata": {},
   "outputs": [
    {
     "data": {
      "text/plain": [
       "<AxesSubplot:xlabel='coursenumber'>"
      ]
     },
     "execution_count": 15,
     "metadata": {},
     "output_type": "execute_result"
    },
    {
     "data": {
      "image/png": "[encoded data removed]",
      "text/plain": [
       "<Figure size 432x288 with 1 Axes>"
      ]
     },
     "metadata": {
      "needs_background": "light"
     },
     "output_type": "display_data"
    }
   ],
   "source": [
    "df=pandas.read_sql_query(sql_q3,conn)\n",
    "df.plot.bar(y='enrolled',x='coursenumber')"
   ]
  },
  {
   "cell_type": "markdown",
   "id": "9bf41ec4",
   "metadata": {},
   "source": [
    "## Q4: Use pandas to create a bar chart showing the number of courses taught by each professor's name"
   ]
  },
  {
   "cell_type": "code",
   "execution_count": 16,
   "id": "9c1f6804",
   "metadata": {},
   "outputs": [],
   "source": [
    "sql_q4 = \"\"\" select professorname,\n",
    "            count(coursename) as total_courses\n",
    "            from gp9.course\n",
    "            group by professorname\n",
    "            order by total_courses desc\"\"\""
   ]
  },
  {
   "cell_type": "code",
   "execution_count": 17,
   "id": "ef201760",
   "metadata": {},
   "outputs": [
    {
     "data": {
      "text/plain": [
       "<AxesSubplot:xlabel='professorname'>"
      ]
     },
     "execution_count": 17,
     "metadata": {},
     "output_type": "execute_result"
    },
    {
     "data": {
      "image/png": "[encoded data removed]",
      "text/plain": [
       "<Figure size 432x288 with 1 Axes>"
      ]
     },
     "metadata": {
      "needs_background": "light"
     },
     "output_type": "display_data"
    }
   ],
   "source": [
    "df=pandas.read_sql_query(sql_q4,conn)\n",
    "df.plot.bar(y='total_courses', x='professorname')"
   ]
  },
  {
   "cell_type": "markdown",
   "id": "6fde91bf",
   "metadata": {},
   "source": [
    "## Q5: Add a record of the new professor in the teacher table and the corresponding new course record in the course table, then display both modified tables."
   ]
  },
  {
   "cell_type": "markdown",
   "id": "50aca8b3",
   "metadata": {},
   "source": [
    "Modify professor table"
   ]
  },
  {
   "cell_type": "code",
   "execution_count": 37,
   "id": "54486abd",
   "metadata": {},
   "outputs": [
    {
     "name": "stdout",
     "output_type": "stream",
     "text": [
      "\n",
      "            insert into gp9.professor(professoremail,coursenumber, professorname,office)\n",
      "            values('new_lab4_email','new_lab4_coursenumber','new_lab4_p_name','new_lab4_o')\n",
      "            \n"
     ]
    }
   ],
   "source": [
    "sql_q5 = \"\"\"\n",
    "            insert into gp9.professor(professoremail,coursenumber, professorname,office)\n",
    "            values('{}','{}','{}','{}')\n",
    "            \"\"\".format('new_lab4_email', 'new_lab4_coursenumber','new_lab4_p_name','new_lab4_o')\n",
    "print(sql_q5)"
   ]
  },
  {
   "cell_type": "code",
   "execution_count": 38,
   "id": "ecf751f5",
   "metadata": {},
   "outputs": [],
   "source": [
    "cur.execute(sql_q5)"
   ]
  },
  {
   "cell_type": "code",
   "execution_count": 39,
   "id": "28244a9e",
   "metadata": {},
   "outputs": [],
   "source": [
    "#conn.rollback() #if error, rollback"
   ]
  },
  {
   "cell_type": "code",
   "execution_count": 40,
   "id": "bad10c0a",
   "metadata": {},
   "outputs": [],
   "source": [
    "conn.commit() #if no error. commit"
   ]
  },
  {
   "cell_type": "code",
   "execution_count": 41,
   "id": "a68bf583",
   "metadata": {},
   "outputs": [
    {
     "data": {
      "text/html": [
       "<div>\n",
       "<style scoped>\n",
       "    .dataframe tbody tr th:only-of-type {\n",
       "        vertical-align: middle;\n",
       "    }\n",
       "\n",
       "    .dataframe tbody tr th {\n",
       "        vertical-align: top;\n",
       "    }\n",
       "\n",
       "    .dataframe thead th {\n",
       "        text-align: right;\n",
       "    }\n",
       "</style>\n",
       "<table border=\"1\" class=\"dataframe\">\n",
       "  <thead>\n",
       "    <tr style=\"text-align: right;\">\n",
       "      <th></th>\n",
       "      <th>professoremail</th>\n",
       "      <th>coursenumber</th>\n",
       "      <th>professorname</th>\n",
       "      <th>office</th>\n",
       "    </tr>\n",
       "  </thead>\n",
       "  <tbody>\n",
       "    <tr>\n",
       "      <th>0</th>\n",
       "      <td>danzelox@jmu.edu\\n</td>\n",
       "      <td>480</td>\n",
       "      <td>Danzell</td>\n",
       "      <td>11</td>\n",
       "    </tr>\n",
       "    <tr>\n",
       "      <th>1</th>\n",
       "      <td>hendrinx@jmu.edu\\n</td>\n",
       "      <td>313</td>\n",
       "      <td>Hendrickson</td>\n",
       "      <td>22</td>\n",
       "    </tr>\n",
       "    <tr>\n",
       "      <th>2</th>\n",
       "      <td>marrinsp@jmu.edu\\n</td>\n",
       "      <td>300</td>\n",
       "      <td>Marrin</td>\n",
       "      <td>33</td>\n",
       "    </tr>\n",
       "    <tr>\n",
       "      <th>3</th>\n",
       "      <td>weixx@jmu.edu</td>\n",
       "      <td>340</td>\n",
       "      <td>Wei</td>\n",
       "      <td>55</td>\n",
       "    </tr>\n",
       "    <tr>\n",
       "      <th>4</th>\n",
       "      <td>mcteach@jmu.edu</td>\n",
       "      <td>2</td>\n",
       "      <td>McTeacher</td>\n",
       "      <td>45</td>\n",
       "    </tr>\n",
       "    <tr>\n",
       "      <th>5</th>\n",
       "      <td>new_lab4_email</td>\n",
       "      <td>new_lab4_coursenumber</td>\n",
       "      <td>new_lab4_p_name</td>\n",
       "      <td>new_lab4_o</td>\n",
       "    </tr>\n",
       "  </tbody>\n",
       "</table>\n",
       "</div>"
      ],
      "text/plain": [
       "       professoremail           coursenumber    professorname      office\n",
       "0  danzelox@jmu.edu\\n                    480          Danzell          11\n",
       "1  hendrinx@jmu.edu\\n                    313      Hendrickson          22\n",
       "2  marrinsp@jmu.edu\\n                    300           Marrin          33\n",
       "3       weixx@jmu.edu                    340              Wei          55\n",
       "4     mcteach@jmu.edu                      2        McTeacher          45\n",
       "5      new_lab4_email  new_lab4_coursenumber  new_lab4_p_name  new_lab4_o"
      ]
     },
     "execution_count": 41,
     "metadata": {},
     "output_type": "execute_result"
    }
   ],
   "source": [
    "df=pandas.read_sql_query('select * from gp9.professor',conn)\n",
    "df[:]"
   ]
  },
  {
   "cell_type": "markdown",
   "id": "f5098ae3",
   "metadata": {},
   "source": [
    "Modify course table"
   ]
  },
  {
   "cell_type": "code",
   "execution_count": 61,
   "id": "097c6588",
   "metadata": {},
   "outputs": [
    {
     "name": "stdout",
     "output_type": "stream",
     "text": [
      "\n",
      "            insert into gp9.course(coursenumber,coursename,professoremail,professorname)\n",
      "            values('new_lab4_room','new_lab4_cousrename','new_lab4_email','new_lab4_p_name')\n",
      "            \n"
     ]
    }
   ],
   "source": [
    "sql_q5_part2 = \"\"\"\n",
    "            insert into gp9.course(coursenumber,coursename,professoremail,professorname)\n",
    "            values('{}','{}','{}','{}')\n",
    "            \"\"\".format('new_lab4_room','new_lab4_cousrename','new_lab4_email','new_lab4_p_name')\n",
    "print(sql_q5_part2)"
   ]
  },
  {
   "cell_type": "code",
   "execution_count": 62,
   "id": "6c3b0a36",
   "metadata": {},
   "outputs": [],
   "source": [
    "cur.execute(sql_q5_part2)"
   ]
  },
  {
   "cell_type": "code",
   "execution_count": 63,
   "id": "279730bb",
   "metadata": {},
   "outputs": [],
   "source": [
    "conn.commit()"
   ]
  },
  {
   "cell_type": "code",
   "execution_count": 64,
   "id": "b4b3fcde",
   "metadata": {},
   "outputs": [
    {
     "data": {
      "text/html": [
       "<div>\n",
       "<style scoped>\n",
       "    .dataframe tbody tr th:only-of-type {\n",
       "        vertical-align: middle;\n",
       "    }\n",
       "\n",
       "    .dataframe tbody tr th {\n",
       "        vertical-align: top;\n",
       "    }\n",
       "\n",
       "    .dataframe thead th {\n",
       "        text-align: right;\n",
       "    }\n",
       "</style>\n",
       "<table border=\"1\" class=\"dataframe\">\n",
       "  <thead>\n",
       "    <tr style=\"text-align: right;\">\n",
       "      <th></th>\n",
       "      <th>coursenumber</th>\n",
       "      <th>coursename</th>\n",
       "      <th>professoremail</th>\n",
       "      <th>professorname</th>\n",
       "    </tr>\n",
       "  </thead>\n",
       "  <tbody>\n",
       "    <tr>\n",
       "      <th>0</th>\n",
       "      <td>480</td>\n",
       "      <td>AML</td>\n",
       "      <td>danzelox@jmu.edu\\n</td>\n",
       "      <td>Danzell</td>\n",
       "    </tr>\n",
       "    <tr>\n",
       "      <th>1</th>\n",
       "      <td>313</td>\n",
       "      <td>Futures</td>\n",
       "      <td>hendrinx@jmu.edu\\n</td>\n",
       "      <td>Hendrickson</td>\n",
       "    </tr>\n",
       "    <tr>\n",
       "      <th>2</th>\n",
       "      <td>300</td>\n",
       "      <td>Seminar</td>\n",
       "      <td>marrinsp@jmu.edu\\n</td>\n",
       "      <td>Marrin</td>\n",
       "    </tr>\n",
       "    <tr>\n",
       "      <th>3</th>\n",
       "      <td>340</td>\n",
       "      <td>Data Mining</td>\n",
       "      <td>weixx@jmu.edu</td>\n",
       "      <td>Wei</td>\n",
       "    </tr>\n",
       "    <tr>\n",
       "      <th>4</th>\n",
       "      <td>2</td>\n",
       "      <td>Fluid Dynamics</td>\n",
       "      <td>mcteach@jmu.edu</td>\n",
       "      <td>McTeacher</td>\n",
       "    </tr>\n",
       "    <tr>\n",
       "      <th>5</th>\n",
       "      <td>261</td>\n",
       "      <td>Hypothesis Testing</td>\n",
       "      <td>mcteach@jmu.edu</td>\n",
       "      <td>Walton</td>\n",
       "    </tr>\n",
       "    <tr>\n",
       "      <th>6</th>\n",
       "      <td>new_lab4_room</td>\n",
       "      <td>new_lab4_cousrename</td>\n",
       "      <td>new_lab4_email</td>\n",
       "      <td>new_lab4_p_name</td>\n",
       "    </tr>\n",
       "  </tbody>\n",
       "</table>\n",
       "</div>"
      ],
      "text/plain": [
       "    coursenumber           coursename      professoremail    professorname\n",
       "0            480                  AML  danzelox@jmu.edu\\n          Danzell\n",
       "1            313              Futures  hendrinx@jmu.edu\\n      Hendrickson\n",
       "2            300              Seminar  marrinsp@jmu.edu\\n           Marrin\n",
       "3            340          Data Mining       weixx@jmu.edu              Wei\n",
       "4              2       Fluid Dynamics     mcteach@jmu.edu        McTeacher\n",
       "5            261   Hypothesis Testing     mcteach@jmu.edu           Walton\n",
       "6  new_lab4_room  new_lab4_cousrename      new_lab4_email  new_lab4_p_name"
      ]
     },
     "execution_count": 64,
     "metadata": {},
     "output_type": "execute_result"
    }
   ],
   "source": [
    "df=pandas.read_sql_query('select * from gp9.course',conn)\n",
    "df[:]"
   ]
  },
  {
   "cell_type": "markdown",
   "id": "0394b44c",
   "metadata": {},
   "source": [
    "# Q6: Suppose a newly hired professor will teach a retiring professor's courses. Delete an existing professor and change the instructor to the newly hired professor and display the tables."
   ]
  },
  {
   "cell_type": "markdown",
   "id": "77513113",
   "metadata": {},
   "source": [
    "update the course table"
   ]
  },
  {
   "cell_type": "code",
   "execution_count": 83,
   "id": "b782ad9b",
   "metadata": {},
   "outputs": [],
   "source": [
    "q6_update_course_sql = \"\"\"\n",
    "                    update gp9.course\n",
    "                    set professoremail = '{}'\n",
    "                    where professoremail = '{}'\n",
    "                    \"\"\".format('new_lab4_email','mcteach@jmu.edu')\n",
    "\n"
   ]
  },
  {
   "cell_type": "code",
   "execution_count": 84,
   "id": "767b0b0e",
   "metadata": {},
   "outputs": [],
   "source": [
    "cur.execute(q6_update_course_sql)"
   ]
  },
  {
   "cell_type": "code",
   "execution_count": 85,
   "id": "be184b41",
   "metadata": {},
   "outputs": [],
   "source": [
    "conn.commit() # no error. commit"
   ]
  },
  {
   "cell_type": "code",
   "execution_count": 82,
   "id": "1b708883",
   "metadata": {},
   "outputs": [],
   "source": [
    "conn.rollback()"
   ]
  },
  {
   "cell_type": "code",
   "execution_count": 86,
   "id": "2dc8d524",
   "metadata": {},
   "outputs": [
    {
     "data": {
      "text/html": [
       "<div>\n",
       "<style scoped>\n",
       "    .dataframe tbody tr th:only-of-type {\n",
       "        vertical-align: middle;\n",
       "    }\n",
       "\n",
       "    .dataframe tbody tr th {\n",
       "        vertical-align: top;\n",
       "    }\n",
       "\n",
       "    .dataframe thead th {\n",
       "        text-align: right;\n",
       "    }\n",
       "</style>\n",
       "<table border=\"1\" class=\"dataframe\">\n",
       "  <thead>\n",
       "    <tr style=\"text-align: right;\">\n",
       "      <th></th>\n",
       "      <th>coursenumber</th>\n",
       "      <th>coursename</th>\n",
       "      <th>professoremail</th>\n",
       "      <th>professorname</th>\n",
       "    </tr>\n",
       "  </thead>\n",
       "  <tbody>\n",
       "    <tr>\n",
       "      <th>0</th>\n",
       "      <td>480</td>\n",
       "      <td>AML</td>\n",
       "      <td>danzelox@jmu.edu\\n</td>\n",
       "      <td>Danzell</td>\n",
       "    </tr>\n",
       "    <tr>\n",
       "      <th>1</th>\n",
       "      <td>313</td>\n",
       "      <td>Futures</td>\n",
       "      <td>hendrinx@jmu.edu\\n</td>\n",
       "      <td>Hendrickson</td>\n",
       "    </tr>\n",
       "    <tr>\n",
       "      <th>2</th>\n",
       "      <td>300</td>\n",
       "      <td>Seminar</td>\n",
       "      <td>marrinsp@jmu.edu\\n</td>\n",
       "      <td>Marrin</td>\n",
       "    </tr>\n",
       "    <tr>\n",
       "      <th>3</th>\n",
       "      <td>340</td>\n",
       "      <td>Data Mining</td>\n",
       "      <td>weixx@jmu.edu</td>\n",
       "      <td>Wei</td>\n",
       "    </tr>\n",
       "    <tr>\n",
       "      <th>4</th>\n",
       "      <td>new_lab4_room</td>\n",
       "      <td>new_lab4_cousrename</td>\n",
       "      <td>new_lab4_email</td>\n",
       "      <td>new_lab4_p_name</td>\n",
       "    </tr>\n",
       "    <tr>\n",
       "      <th>5</th>\n",
       "      <td>2</td>\n",
       "      <td>Fluid Dynamics</td>\n",
       "      <td>new_lab4_email</td>\n",
       "      <td>McTeacher</td>\n",
       "    </tr>\n",
       "    <tr>\n",
       "      <th>6</th>\n",
       "      <td>261</td>\n",
       "      <td>Hypothesis Testing</td>\n",
       "      <td>new_lab4_email</td>\n",
       "      <td>Walton</td>\n",
       "    </tr>\n",
       "  </tbody>\n",
       "</table>\n",
       "</div>"
      ],
      "text/plain": [
       "    coursenumber           coursename      professoremail    professorname\n",
       "0            480                  AML  danzelox@jmu.edu\\n          Danzell\n",
       "1            313              Futures  hendrinx@jmu.edu\\n      Hendrickson\n",
       "2            300              Seminar  marrinsp@jmu.edu\\n           Marrin\n",
       "3            340          Data Mining       weixx@jmu.edu              Wei\n",
       "4  new_lab4_room  new_lab4_cousrename      new_lab4_email  new_lab4_p_name\n",
       "5              2       Fluid Dynamics      new_lab4_email        McTeacher\n",
       "6            261   Hypothesis Testing      new_lab4_email           Walton"
      ]
     },
     "execution_count": 86,
     "metadata": {},
     "output_type": "execute_result"
    }
   ],
   "source": [
    "df=pandas.read_sql_query('select * from gp9.course',conn)\n",
    "df[:]"
   ]
  },
  {
   "cell_type": "markdown",
   "id": "4f90eaad",
   "metadata": {},
   "source": [
    "delete the old professor"
   ]
  },
  {
   "cell_type": "code",
   "execution_count": 88,
   "id": "3c6d090c",
   "metadata": {},
   "outputs": [],
   "source": [
    "q6_delete_professor_sql = \"\"\"\n",
    "                            delete from gp9.professor\n",
    "                            where professoremail='{}'\n",
    "                            \"\"\".format('mcteach@jmu.edu')"
   ]
  },
  {
   "cell_type": "code",
   "execution_count": 89,
   "id": "500f7cb8",
   "metadata": {},
   "outputs": [],
   "source": [
    "cur.execute(q6_delete_professor_sql)"
   ]
  },
  {
   "cell_type": "code",
   "execution_count": 90,
   "id": "11c64fbe",
   "metadata": {},
   "outputs": [],
   "source": [
    "conn.commit()"
   ]
  },
  {
   "cell_type": "code",
   "execution_count": 91,
   "id": "8f9119eb",
   "metadata": {},
   "outputs": [
    {
     "data": {
      "text/html": [
       "<div>\n",
       "<style scoped>\n",
       "    .dataframe tbody tr th:only-of-type {\n",
       "        vertical-align: middle;\n",
       "    }\n",
       "\n",
       "    .dataframe tbody tr th {\n",
       "        vertical-align: top;\n",
       "    }\n",
       "\n",
       "    .dataframe thead th {\n",
       "        text-align: right;\n",
       "    }\n",
       "</style>\n",
       "<table border=\"1\" class=\"dataframe\">\n",
       "  <thead>\n",
       "    <tr style=\"text-align: right;\">\n",
       "      <th></th>\n",
       "      <th>professoremail</th>\n",
       "      <th>coursenumber</th>\n",
       "      <th>professorname</th>\n",
       "      <th>office</th>\n",
       "    </tr>\n",
       "  </thead>\n",
       "  <tbody>\n",
       "    <tr>\n",
       "      <th>0</th>\n",
       "      <td>danzelox@jmu.edu\\n</td>\n",
       "      <td>480</td>\n",
       "      <td>Danzell</td>\n",
       "      <td>11</td>\n",
       "    </tr>\n",
       "    <tr>\n",
       "      <th>1</th>\n",
       "      <td>hendrinx@jmu.edu\\n</td>\n",
       "      <td>313</td>\n",
       "      <td>Hendrickson</td>\n",
       "      <td>22</td>\n",
       "    </tr>\n",
       "    <tr>\n",
       "      <th>2</th>\n",
       "      <td>marrinsp@jmu.edu\\n</td>\n",
       "      <td>300</td>\n",
       "      <td>Marrin</td>\n",
       "      <td>33</td>\n",
       "    </tr>\n",
       "    <tr>\n",
       "      <th>3</th>\n",
       "      <td>weixx@jmu.edu</td>\n",
       "      <td>340</td>\n",
       "      <td>Wei</td>\n",
       "      <td>55</td>\n",
       "    </tr>\n",
       "    <tr>\n",
       "      <th>4</th>\n",
       "      <td>new_lab4_email</td>\n",
       "      <td>new_lab4_coursenumber</td>\n",
       "      <td>new_lab4_p_name</td>\n",
       "      <td>new_lab4_o</td>\n",
       "    </tr>\n",
       "  </tbody>\n",
       "</table>\n",
       "</div>"
      ],
      "text/plain": [
       "       professoremail           coursenumber    professorname      office\n",
       "0  danzelox@jmu.edu\\n                    480          Danzell          11\n",
       "1  hendrinx@jmu.edu\\n                    313      Hendrickson          22\n",
       "2  marrinsp@jmu.edu\\n                    300           Marrin          33\n",
       "3       weixx@jmu.edu                    340              Wei          55\n",
       "4      new_lab4_email  new_lab4_coursenumber  new_lab4_p_name  new_lab4_o"
      ]
     },
     "execution_count": 91,
     "metadata": {},
     "output_type": "execute_result"
    }
   ],
   "source": [
    "df=pandas.read_sql_query('select * from gp9.professor',conn)\n",
    "df[:]\n"
   ]
  },
  {
   "cell_type": "markdown",
   "id": "8382b1c5",
   "metadata": {},
   "source": [
    "## Close the cursor and the connection"
   ]
  },
  {
   "cell_type": "code",
   "execution_count": 92,
   "id": "5fb32bb4",
   "metadata": {},
   "outputs": [],
   "source": [
    "cur.close()"
   ]
  },
  {
   "cell_type": "code",
   "execution_count": 93,
   "id": "74658c39",
   "metadata": {},
   "outputs": [],
   "source": [
    "conn.close()"
   ]
  },
  {
   "cell_type": "code",
   "execution_count": null,
   "id": "a6b5eca2",
   "metadata": {},
   "outputs": [],
   "source": []
  }
 ],
 "metadata": {
  "kernelspec": {
   "display_name": "conda_python3",
   "language": "python",
   "name": "conda_python3"
  },
  "language_info": {
   "codemirror_mode": {
    "name": "ipython",
    "version": 3
   },
   "file_extension": ".py",
   "mimetype": "text/x-python",
   "name": "python",
   "nbconvert_exporter": "python",
   "pygments_lexer": "ipython3",
   "version": "3.6.13"
  }
 },
 "nbformat": 4,
 "nbformat_minor": 5
}
