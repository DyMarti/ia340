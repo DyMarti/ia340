{
 "cells": [
  {
   "cell_type": "markdown",
   "metadata": {},
   "source": [
    "# Collect Tweets into MongoDB"
   ]
  },
  {
   "cell_type": "markdown",
   "metadata": {},
   "source": [
    "## Install Python libraries\n",
    "\n",
    "You may need to restart your Jupyter Notebook instance after installed those libraries."
   ]
  },
  {
   "cell_type": "code",
   "execution_count": 1,
   "metadata": {
    "scrolled": true
   },
   "outputs": [
    {
     "name": "stdout",
     "output_type": "stream",
     "text": [
      "Collecting pymongo\n",
      "  Downloading pymongo-3.12.1-cp36-cp36m-manylinux_2_17_x86_64.manylinux2014_x86_64.whl (506 kB)\n",
      "\u001b[K     |████████████████████████████████| 506 kB 20.7 MB/s eta 0:00:01\n",
      "\u001b[?25hInstalling collected packages: pymongo\n",
      "Successfully installed pymongo-3.12.1\n",
      "\u001b[33mWARNING: You are using pip version 21.2.4; however, version 21.3.1 is available.\n",
      "You should consider upgrading via the '/home/ec2-user/anaconda3/envs/python3/bin/python -m pip install --upgrade pip' command.\u001b[0m\n"
     ]
    }
   ],
   "source": [
    "!pip install pymongo"
   ]
  },
  {
   "cell_type": "code",
   "execution_count": 2,
   "metadata": {},
   "outputs": [
    {
     "name": "stdout",
     "output_type": "stream",
     "text": [
      "Requirement already satisfied: pymongo[srv] in /home/ec2-user/anaconda3/envs/python3/lib/python3.6/site-packages (3.12.1)\n",
      "Collecting dnspython<3.0.0,>=1.16.0\n",
      "  Downloading dnspython-2.1.0-py3-none-any.whl (241 kB)\n",
      "\u001b[K     |████████████████████████████████| 241 kB 8.4 MB/s eta 0:00:01\n",
      "\u001b[?25hInstalling collected packages: dnspython\n",
      "Successfully installed dnspython-2.1.0\n",
      "\u001b[33mWARNING: You are using pip version 21.2.4; however, version 21.3.1 is available.\n",
      "You should consider upgrading via the '/home/ec2-user/anaconda3/envs/python3/bin/python -m pip install --upgrade pip' command.\u001b[0m\n"
     ]
    }
   ],
   "source": [
    "!pip install pymongo[srv]"
   ]
  },
  {
   "cell_type": "code",
   "execution_count": 3,
   "metadata": {},
   "outputs": [
    {
     "name": "stdout",
     "output_type": "stream",
     "text": [
      "Requirement already satisfied: dnspython in /home/ec2-user/anaconda3/envs/python3/lib/python3.6/site-packages (2.1.0)\n",
      "\u001b[33mWARNING: You are using pip version 21.2.4; however, version 21.3.1 is available.\n",
      "You should consider upgrading via the '/home/ec2-user/anaconda3/envs/python3/bin/python -m pip install --upgrade pip' command.\u001b[0m\n"
     ]
    }
   ],
   "source": [
    "!pip install dnspython"
   ]
  },
  {
   "cell_type": "code",
   "execution_count": 4,
   "metadata": {
    "scrolled": true
   },
   "outputs": [
    {
     "name": "stdout",
     "output_type": "stream",
     "text": [
      "Collecting tweepy\n",
      "  Downloading tweepy-4.4.0-py2.py3-none-any.whl (65 kB)\n",
      "\u001b[K     |████████████████████████████████| 65 kB 5.4 MB/s  eta 0:00:01\n",
      "\u001b[?25hRequirement already satisfied: requests<3,>=2.11.1 in /home/ec2-user/anaconda3/envs/python3/lib/python3.6/site-packages (from tweepy) (2.26.0)\n",
      "Collecting requests-oauthlib<2,>=1.0.0\n",
      "  Downloading requests_oauthlib-1.3.0-py2.py3-none-any.whl (23 kB)\n",
      "Requirement already satisfied: charset-normalizer~=2.0.0 in /home/ec2-user/anaconda3/envs/python3/lib/python3.6/site-packages (from requests<3,>=2.11.1->tweepy) (2.0.7)\n",
      "Requirement already satisfied: idna<4,>=2.5 in /home/ec2-user/anaconda3/envs/python3/lib/python3.6/site-packages (from requests<3,>=2.11.1->tweepy) (3.3)\n",
      "Requirement already satisfied: certifi>=2017.4.17 in /home/ec2-user/anaconda3/envs/python3/lib/python3.6/site-packages (from requests<3,>=2.11.1->tweepy) (2021.10.8)\n",
      "Requirement already satisfied: urllib3<1.27,>=1.21.1 in /home/ec2-user/anaconda3/envs/python3/lib/python3.6/site-packages (from requests<3,>=2.11.1->tweepy) (1.26.7)\n",
      "Collecting oauthlib>=3.0.0\n",
      "  Downloading oauthlib-3.1.1-py2.py3-none-any.whl (146 kB)\n",
      "\u001b[K     |████████████████████████████████| 146 kB 72.1 MB/s eta 0:00:01\n",
      "\u001b[?25hInstalling collected packages: oauthlib, requests-oauthlib, tweepy\n",
      "Successfully installed oauthlib-3.1.1 requests-oauthlib-1.3.0 tweepy-4.4.0\n",
      "\u001b[33mWARNING: You are using pip version 21.2.4; however, version 21.3.1 is available.\n",
      "You should consider upgrading via the '/home/ec2-user/anaconda3/envs/python3/bin/python -m pip install --upgrade pip' command.\u001b[0m\n"
     ]
    }
   ],
   "source": [
    "!pip install tweepy"
   ]
  },
  {
   "cell_type": "code",
   "execution_count": 5,
   "metadata": {
    "scrolled": true
   },
   "outputs": [
    {
     "name": "stdout",
     "output_type": "stream",
     "text": [
      "Collecting twitter\n",
      "  Downloading twitter-1.19.3-py2.py3-none-any.whl (50 kB)\n",
      "\u001b[K     |████████████████████████████████| 50 kB 6.3 MB/s  eta 0:00:01\n",
      "\u001b[?25hInstalling collected packages: twitter\n",
      "Successfully installed twitter-1.19.3\n",
      "\u001b[33mWARNING: You are using pip version 21.2.4; however, version 21.3.1 is available.\n",
      "You should consider upgrading via the '/home/ec2-user/anaconda3/envs/python3/bin/python -m pip install --upgrade pip' command.\u001b[0m\n"
     ]
    }
   ],
   "source": [
    "!pip install twitter"
   ]
  },
  {
   "cell_type": "markdown",
   "metadata": {},
   "source": [
    "## Import Python libraries"
   ]
  },
  {
   "cell_type": "code",
   "execution_count": 2,
   "metadata": {},
   "outputs": [],
   "source": [
    "import pymongo\n",
    "from pymongo import MongoClient\n",
    "import json\n",
    "import tweepy\n",
    "import twitter\n",
    "from pprint import pprint\n",
    "import configparser\n",
    "import pandas as pd"
   ]
  },
  {
   "cell_type": "markdown",
   "metadata": {},
   "source": [
    "##  Load the Authorization Info"
   ]
  },
  {
   "cell_type": "markdown",
   "metadata": {},
   "source": [
    "Save database connection info and API Keys in a config.ini file and use the configparse to load the authorization info. "
   ]
  },
  {
   "cell_type": "code",
   "execution_count": 3,
   "metadata": {},
   "outputs": [],
   "source": [
    "config = configparser.ConfigParser()\n",
    "config.read('config.ini')\n",
    "\n",
    "CONSUMER_KEY      = config['mytwitter']['api_key']\n",
    "CONSUMER_SECRET   = config['mytwitter']['api_secrete']\n",
    "OAUTH_TOKEN       = config['mytwitter']['access_token']\n",
    "OATH_TOKEN_SECRET = config['mytwitter']['access_secrete']\n",
    "\n",
    "mongod_connect = config['mymongo']['connection']"
   ]
  },
  {
   "cell_type": "markdown",
   "metadata": {},
   "source": [
    "## Connect to the MongoDB Cluster"
   ]
  },
  {
   "cell_type": "code",
   "execution_count": 4,
   "metadata": {},
   "outputs": [
    {
     "data": {
      "text/plain": [
       "'id_1'"
      ]
     },
     "execution_count": 4,
     "metadata": {},
     "output_type": "execute_result"
    }
   ],
   "source": [
    "client = MongoClient(mongod_connect)\n",
    "db = client.gp9 # use or create a database named demo\n",
    "tweet_collection = db.lab11 #use or create a collection named tweet_collection\n",
    "tweet_collection.create_index([(\"id\", pymongo.ASCENDING)],unique = True) # make sure the collected tweets are unique"
   ]
  },
  {
   "cell_type": "markdown",
   "metadata": {},
   "source": [
    "## Use the Streaming API to Collect Tweets"
   ]
  },
  {
   "cell_type": "markdown",
   "metadata": {},
   "source": [
    "Authorize the Stream API "
   ]
  },
  {
   "cell_type": "code",
   "execution_count": 4,
   "metadata": {},
   "outputs": [],
   "source": [
    "stream_auth = tweepy.OAuthHandler(CONSUMER_KEY, CONSUMER_SECRET)\n",
    "stream_auth.set_access_token(OAUTH_TOKEN, OATH_TOKEN_SECRET)\n",
    "\n",
    "strem_api = tweepy.API(stream_auth)"
   ]
  },
  {
   "cell_type": "markdown",
   "metadata": {},
   "source": [
    "Define the query for the Stream API"
   ]
  },
  {
   "cell_type": "code",
   "execution_count": 5,
   "metadata": {},
   "outputs": [],
   "source": [
    "track = ['election'] # define the keywords, tweets contain election\n",
    "\n",
    "locations = [-78.9326449,38.4150904,-78.8816972,38.4450731] #defin the location, in Harrisonburg, VA"
   ]
  },
  {
   "cell_type": "markdown",
   "metadata": {},
   "source": [
    "The collected tweets will contain 'election' <span style=\"color:red;font-weight:bold\"> OR </span> are located in Harrisonburg, VA"
   ]
  },
  {
   "cell_type": "code",
   "execution_count": null,
   "metadata": {
    "scrolled": true
   },
   "outputs": [],
   "source": [
    "class MyStreamListener(tweepy.StreamListener):\n",
    "    def on_status(self, status):\n",
    "        print (status.id_str)\n",
    "        try:\n",
    "            tweet_collection.insert_one(status._json)\n",
    "        except:\n",
    "            pass\n",
    "  \n",
    "    def on_error(self, status_code):\n",
    "        if status_code == 420:\n",
    "            #returning False in on_data disconnects the stream\n",
    "            return False\n",
    "myStreamListener = MyStreamListener()\n",
    "myStream = tweepy.Stream(auth = strem_api.auth, listener=myStreamListener)\n",
    "myStream.filter(track=track)#  (locations = locations)   #Use either track or locations"
   ]
  },
  {
   "cell_type": "markdown",
   "metadata": {},
   "source": [
    "## Use the REST API to Collect Tweets"
   ]
  },
  {
   "cell_type": "markdown",
   "metadata": {},
   "source": [
    "Authorize the REST API "
   ]
  },
  {
   "cell_type": "code",
   "execution_count": 19,
   "metadata": {},
   "outputs": [],
   "source": [
    "rest_auth = twitter.oauth.OAuth(OAUTH_TOKEN,OATH_TOKEN_SECRET,CONSUMER_KEY,CONSUMER_SECRET)\n",
    "rest_api = twitter.Twitter(auth=rest_auth)"
   ]
  },
  {
   "cell_type": "markdown",
   "metadata": {},
   "source": [
    "Define the query for the REST API"
   ]
  },
  {
   "cell_type": "code",
   "execution_count": 21,
   "metadata": {},
   "outputs": [],
   "source": [
    "count = 100 #number of returned tweets, default and max is 100\n",
    "geocode = \"37.5427440,-77.4411961,150mi\"  # defin the location, in Harrisonburg, VA\n",
    "q = \"covid19\"                               #define the keywords, tweets contain election"
   ]
  },
  {
   "cell_type": "markdown",
   "metadata": {},
   "source": [
    "The collected tweets will contain 'election' <span style=\"color:red;font-weight:bold\"> AND </span> are located in Harrisonburg, VA"
   ]
  },
  {
   "cell_type": "code",
   "execution_count": 25,
   "metadata": {},
   "outputs": [],
   "source": [
    "search_results = rest_api.search.tweets( count=count,q=q, geocode=geocode) #you can use both q and geocode\n",
    "statuses = search_results[\"statuses\"]\n",
    "since_id_new = statuses[-1]['id']\n",
    "for statuse in statuses:\n",
    "    try:\n",
    "        tweet_collection.insert_one(statuse)\n",
    "        pprint(statuse['created_at'])# print the date of the collected tweets\n",
    "    except:\n",
    "        pass"
   ]
  },
  {
   "cell_type": "markdown",
   "metadata": {},
   "source": [
    "Continue fetching early tweets with the same query. \n",
    "<p><span style=\"color:red;font-weight:bold\">YOU WILL REACH YOUR RATE LIMIT VERY FAST</span></p>"
   ]
  },
  {
   "cell_type": "code",
   "execution_count": null,
   "metadata": {
    "scrolled": false
   },
   "outputs": [
    {
     "name": "stdout",
     "output_type": "stream",
     "text": [
      "'Fri Nov 19 17:28:04 +0000 2021'\n",
      "'Fri Nov 19 17:27:40 +0000 2021'\n",
      "'Fri Nov 19 17:27:11 +0000 2021'\n",
      "'Fri Nov 19 17:26:56 +0000 2021'\n",
      "'Fri Nov 19 17:26:54 +0000 2021'\n",
      "'Fri Nov 19 17:24:55 +0000 2021'\n",
      "'Fri Nov 19 17:24:16 +0000 2021'\n",
      "'Fri Nov 19 17:22:39 +0000 2021'\n",
      "'Fri Nov 19 17:21:35 +0000 2021'\n",
      "'Fri Nov 19 17:19:29 +0000 2021'\n",
      "'Fri Nov 19 17:18:26 +0000 2021'\n",
      "'Fri Nov 19 17:17:24 +0000 2021'\n",
      "'Fri Nov 19 17:17:02 +0000 2021'\n",
      "'Fri Nov 19 17:15:44 +0000 2021'\n",
      "'Fri Nov 19 17:15:12 +0000 2021'\n",
      "'Fri Nov 19 17:15:02 +0000 2021'\n",
      "'Fri Nov 19 17:14:11 +0000 2021'\n",
      "'Fri Nov 19 17:10:06 +0000 2021'\n",
      "'Fri Nov 19 17:09:37 +0000 2021'\n",
      "'Fri Nov 19 17:09:24 +0000 2021'\n",
      "'Fri Nov 19 17:09:10 +0000 2021'\n",
      "'Fri Nov 19 17:09:03 +0000 2021'\n",
      "'Fri Nov 19 17:07:43 +0000 2021'\n",
      "'Fri Nov 19 17:07:36 +0000 2021'\n",
      "'Fri Nov 19 17:07:34 +0000 2021'\n",
      "'Fri Nov 19 17:05:22 +0000 2021'\n",
      "'Fri Nov 19 17:05:01 +0000 2021'\n",
      "'Fri Nov 19 17:01:55 +0000 2021'\n",
      "'Fri Nov 19 17:01:12 +0000 2021'\n",
      "'Fri Nov 19 17:00:51 +0000 2021'\n",
      "'Fri Nov 19 17:00:26 +0000 2021'\n",
      "'Fri Nov 19 17:00:18 +0000 2021'\n",
      "'Fri Nov 19 17:00:03 +0000 2021'\n",
      "'Fri Nov 19 17:00:02 +0000 2021'\n",
      "'Fri Nov 19 17:00:00 +0000 2021'\n",
      "'Fri Nov 19 16:58:37 +0000 2021'\n",
      "'Fri Nov 19 16:55:03 +0000 2021'\n",
      "'Fri Nov 19 16:52:43 +0000 2021'\n",
      "'Fri Nov 19 16:51:47 +0000 2021'\n",
      "'Fri Nov 19 16:50:22 +0000 2021'\n",
      "'Fri Nov 19 16:50:00 +0000 2021'\n",
      "'Fri Nov 19 16:48:13 +0000 2021'\n",
      "'Fri Nov 19 16:47:36 +0000 2021'\n",
      "'Fri Nov 19 16:47:35 +0000 2021'\n",
      "'Fri Nov 19 16:44:34 +0000 2021'\n",
      "'Fri Nov 19 16:44:00 +0000 2021'\n",
      "'Fri Nov 19 16:43:13 +0000 2021'\n",
      "'Fri Nov 19 16:38:44 +0000 2021'\n",
      "'Fri Nov 19 16:31:02 +0000 2021'\n",
      "'Fri Nov 19 16:30:25 +0000 2021'\n",
      "'Fri Nov 19 16:30:00 +0000 2021'\n",
      "'Fri Nov 19 16:30:00 +0000 2021'\n",
      "'Fri Nov 19 16:30:00 +0000 2021'\n",
      "'Fri Nov 19 16:30:00 +0000 2021'\n",
      "'Fri Nov 19 16:28:48 +0000 2021'\n",
      "'Fri Nov 19 16:20:03 +0000 2021'\n",
      "'Fri Nov 19 16:19:40 +0000 2021'\n",
      "'Fri Nov 19 16:19:21 +0000 2021'\n",
      "'Fri Nov 19 16:18:05 +0000 2021'\n",
      "'Fri Nov 19 16:16:50 +0000 2021'\n",
      "'Fri Nov 19 16:13:02 +0000 2021'\n",
      "'Fri Nov 19 16:12:12 +0000 2021'\n",
      "'Fri Nov 19 16:11:27 +0000 2021'\n",
      "'Fri Nov 19 16:10:57 +0000 2021'\n",
      "'Fri Nov 19 16:10:49 +0000 2021'\n",
      "'Fri Nov 19 16:10:01 +0000 2021'\n",
      "'Fri Nov 19 16:08:39 +0000 2021'\n",
      "'Fri Nov 19 16:07:19 +0000 2021'\n",
      "'Fri Nov 19 16:06:31 +0000 2021'\n",
      "'Fri Nov 19 16:05:34 +0000 2021'\n",
      "'Fri Nov 19 16:04:00 +0000 2021'\n",
      "'Fri Nov 19 16:02:24 +0000 2021'\n",
      "'Fri Nov 19 16:00:37 +0000 2021'\n",
      "'Fri Nov 19 16:00:11 +0000 2021'\n",
      "'Fri Nov 19 16:00:01 +0000 2021'\n",
      "'Fri Nov 19 15:58:16 +0000 2021'\n",
      "'Fri Nov 19 15:57:33 +0000 2021'\n",
      "'Fri Nov 19 15:57:00 +0000 2021'\n",
      "'Fri Nov 19 15:56:30 +0000 2021'\n",
      "'Fri Nov 19 15:54:20 +0000 2021'\n",
      "'Fri Nov 19 15:53:00 +0000 2021'\n",
      "'Fri Nov 19 15:52:25 +0000 2021'\n",
      "'Fri Nov 19 15:51:06 +0000 2021'\n",
      "'Fri Nov 19 15:50:57 +0000 2021'\n",
      "'Fri Nov 19 15:50:16 +0000 2021'\n",
      "'Fri Nov 19 15:49:03 +0000 2021'\n",
      "'Fri Nov 19 15:48:08 +0000 2021'\n",
      "'Fri Nov 19 15:45:02 +0000 2021'\n",
      "'Fri Nov 19 15:40:44 +0000 2021'\n",
      "'Fri Nov 19 15:37:01 +0000 2021'\n",
      "'Fri Nov 19 15:35:50 +0000 2021'\n",
      "'Fri Nov 19 15:35:14 +0000 2021'\n",
      "'Fri Nov 19 15:30:07 +0000 2021'\n",
      "'Fri Nov 19 15:30:06 +0000 2021'\n",
      "'Fri Nov 19 15:30:00 +0000 2021'\n",
      "'Fri Nov 19 15:30:00 +0000 2021'\n",
      "'Fri Nov 19 15:29:00 +0000 2021'\n",
      "'Fri Nov 19 15:26:21 +0000 2021'\n",
      "'Fri Nov 19 15:18:38 +0000 2021'\n",
      "'Fri Nov 19 15:15:20 +0000 2021'\n",
      "'Fri Nov 19 15:15:03 +0000 2021'\n",
      "'Fri Nov 19 15:10:38 +0000 2021'\n",
      "'Fri Nov 19 15:09:00 +0000 2021'\n",
      "'Fri Nov 19 15:08:17 +0000 2021'\n",
      "'Fri Nov 19 15:07:16 +0000 2021'\n",
      "'Fri Nov 19 15:06:10 +0000 2021'\n",
      "'Fri Nov 19 15:05:35 +0000 2021'\n",
      "'Fri Nov 19 15:05:08 +0000 2021'\n",
      "'Fri Nov 19 15:05:03 +0000 2021'\n",
      "'Fri Nov 19 15:01:15 +0000 2021'\n",
      "'Fri Nov 19 15:00:33 +0000 2021'\n",
      "'Fri Nov 19 15:00:19 +0000 2021'\n",
      "'Fri Nov 19 15:00:16 +0000 2021'\n",
      "'Fri Nov 19 15:00:03 +0000 2021'\n",
      "'Fri Nov 19 14:59:52 +0000 2021'\n",
      "'Fri Nov 19 14:59:14 +0000 2021'\n",
      "'Fri Nov 19 14:58:16 +0000 2021'\n",
      "'Fri Nov 19 14:55:48 +0000 2021'\n",
      "'Fri Nov 19 14:52:18 +0000 2021'\n",
      "'Fri Nov 19 14:50:31 +0000 2021'\n",
      "'Fri Nov 19 14:47:47 +0000 2021'\n",
      "'Fri Nov 19 14:45:07 +0000 2021'\n",
      "'Fri Nov 19 14:43:29 +0000 2021'\n",
      "'Fri Nov 19 14:42:28 +0000 2021'\n",
      "'Fri Nov 19 14:41:51 +0000 2021'\n",
      "'Fri Nov 19 14:41:49 +0000 2021'\n",
      "'Fri Nov 19 14:36:50 +0000 2021'\n",
      "'Fri Nov 19 14:35:39 +0000 2021'\n",
      "'Fri Nov 19 14:32:04 +0000 2021'\n",
      "'Fri Nov 19 14:32:03 +0000 2021'\n",
      "'Fri Nov 19 14:31:55 +0000 2021'\n",
      "'Fri Nov 19 14:31:38 +0000 2021'\n",
      "'Fri Nov 19 14:30:04 +0000 2021'\n",
      "'Fri Nov 19 14:30:01 +0000 2021'\n",
      "'Fri Nov 19 14:29:35 +0000 2021'\n",
      "'Fri Nov 19 14:28:23 +0000 2021'\n",
      "'Fri Nov 19 14:28:23 +0000 2021'\n",
      "'Fri Nov 19 14:24:34 +0000 2021'\n",
      "'Fri Nov 19 14:23:40 +0000 2021'\n",
      "'Fri Nov 19 14:22:46 +0000 2021'\n",
      "'Fri Nov 19 14:19:59 +0000 2021'\n",
      "'Fri Nov 19 14:19:29 +0000 2021'\n",
      "'Fri Nov 19 14:19:00 +0000 2021'\n",
      "'Fri Nov 19 14:17:51 +0000 2021'\n",
      "'Fri Nov 19 14:17:15 +0000 2021'\n",
      "'Fri Nov 19 14:16:56 +0000 2021'\n",
      "'Fri Nov 19 14:15:45 +0000 2021'\n",
      "'Fri Nov 19 14:15:04 +0000 2021'\n",
      "'Fri Nov 19 14:14:32 +0000 2021'\n",
      "'Fri Nov 19 14:10:04 +0000 2021'\n",
      "'Fri Nov 19 14:08:00 +0000 2021'\n",
      "'Fri Nov 19 14:06:01 +0000 2021'\n",
      "'Fri Nov 19 14:01:25 +0000 2021'\n",
      "'Fri Nov 19 14:01:14 +0000 2021'\n",
      "'Fri Nov 19 14:00:54 +0000 2021'\n",
      "'Fri Nov 19 14:00:38 +0000 2021'\n",
      "'Fri Nov 19 14:00:32 +0000 2021'\n",
      "'Fri Nov 19 14:00:18 +0000 2021'\n",
      "'Fri Nov 19 14:00:12 +0000 2021'\n",
      "'Fri Nov 19 14:00:12 +0000 2021'\n",
      "'Fri Nov 19 13:59:03 +0000 2021'\n",
      "'Fri Nov 19 13:57:24 +0000 2021'\n",
      "'Fri Nov 19 13:57:03 +0000 2021'\n",
      "'Fri Nov 19 13:55:47 +0000 2021'\n",
      "'Fri Nov 19 13:54:13 +0000 2021'\n",
      "'Fri Nov 19 13:53:06 +0000 2021'\n",
      "'Fri Nov 19 13:51:56 +0000 2021'\n",
      "'Fri Nov 19 13:50:01 +0000 2021'\n",
      "'Fri Nov 19 13:48:41 +0000 2021'\n",
      "'Fri Nov 19 13:48:40 +0000 2021'\n",
      "'Fri Nov 19 13:48:03 +0000 2021'\n",
      "'Fri Nov 19 13:46:59 +0000 2021'\n",
      "'Fri Nov 19 13:44:21 +0000 2021'\n",
      "'Fri Nov 19 13:44:08 +0000 2021'\n",
      "'Fri Nov 19 13:43:52 +0000 2021'\n",
      "'Fri Nov 19 13:41:56 +0000 2021'\n",
      "'Fri Nov 19 13:40:47 +0000 2021'\n",
      "'Fri Nov 19 13:40:43 +0000 2021'\n",
      "'Fri Nov 19 13:40:14 +0000 2021'\n",
      "'Fri Nov 19 13:39:12 +0000 2021'\n",
      "'Fri Nov 19 13:36:00 +0000 2021'\n",
      "'Fri Nov 19 13:34:58 +0000 2021'\n",
      "'Fri Nov 19 13:31:09 +0000 2021'\n",
      "'Fri Nov 19 13:30:10 +0000 2021'\n",
      "'Fri Nov 19 13:25:35 +0000 2021'\n",
      "'Fri Nov 19 13:25:30 +0000 2021'\n",
      "'Fri Nov 19 13:25:12 +0000 2021'\n",
      "'Fri Nov 19 13:25:04 +0000 2021'\n",
      "'Fri Nov 19 13:24:06 +0000 2021'\n",
      "'Fri Nov 19 13:23:17 +0000 2021'\n",
      "'Fri Nov 19 13:18:04 +0000 2021'\n",
      "'Fri Nov 19 13:16:55 +0000 2021'\n",
      "'Fri Nov 19 13:12:13 +0000 2021'\n",
      "'Fri Nov 19 13:07:59 +0000 2021'\n",
      "'Fri Nov 19 13:05:01 +0000 2021'\n",
      "'Fri Nov 19 13:00:01 +0000 2021'\n",
      "'Fri Nov 19 13:00:00 +0000 2021'\n",
      "'Fri Nov 19 12:59:34 +0000 2021'\n",
      "'Fri Nov 19 12:32:09 +0000 2021'\n",
      "'Fri Nov 19 12:29:54 +0000 2021'\n",
      "'Fri Nov 19 12:25:01 +0000 2021'\n",
      "'Fri Nov 19 12:13:18 +0000 2021'\n",
      "'Fri Nov 19 12:10:14 +0000 2021'\n",
      "'Fri Nov 19 12:10:10 +0000 2021'\n",
      "'Fri Nov 19 12:02:55 +0000 2021'\n",
      "'Fri Nov 19 11:56:43 +0000 2021'\n",
      "'Fri Nov 19 11:53:50 +0000 2021'\n",
      "'Fri Nov 19 11:52:19 +0000 2021'\n",
      "'Fri Nov 19 11:41:32 +0000 2021'\n",
      "'Fri Nov 19 11:41:04 +0000 2021'\n",
      "'Fri Nov 19 11:24:29 +0000 2021'\n",
      "'Fri Nov 19 11:17:04 +0000 2021'\n",
      "'Fri Nov 19 11:07:36 +0000 2021'\n",
      "'Fri Nov 19 10:43:43 +0000 2021'\n",
      "'Fri Nov 19 10:34:38 +0000 2021'\n",
      "'Fri Nov 19 10:23:40 +0000 2021'\n",
      "'Fri Nov 19 10:13:07 +0000 2021'\n",
      "'Fri Nov 19 10:13:01 +0000 2021'\n",
      "'Fri Nov 19 10:08:34 +0000 2021'\n",
      "'Fri Nov 19 09:49:04 +0000 2021'\n",
      "'Fri Nov 19 09:48:21 +0000 2021'\n",
      "'Fri Nov 19 09:43:41 +0000 2021'\n",
      "'Fri Nov 19 09:28:58 +0000 2021'\n",
      "'Fri Nov 19 09:23:28 +0000 2021'\n",
      "'Fri Nov 19 09:17:20 +0000 2021'\n",
      "'Fri Nov 19 08:45:13 +0000 2021'\n",
      "'Fri Nov 19 08:34:49 +0000 2021'\n",
      "'Fri Nov 19 08:34:44 +0000 2021'\n",
      "'Fri Nov 19 07:04:04 +0000 2021'\n",
      "'Fri Nov 19 06:21:26 +0000 2021'\n",
      "'Fri Nov 19 05:59:36 +0000 2021'\n",
      "'Fri Nov 19 05:29:58 +0000 2021'\n",
      "'Fri Nov 19 04:36:41 +0000 2021'\n",
      "'Fri Nov 19 04:35:21 +0000 2021'\n",
      "'Fri Nov 19 04:30:20 +0000 2021'\n",
      "'Fri Nov 19 04:26:25 +0000 2021'\n",
      "'Fri Nov 19 04:25:44 +0000 2021'\n",
      "'Fri Nov 19 04:17:42 +0000 2021'\n",
      "'Fri Nov 19 04:14:57 +0000 2021'\n",
      "'Fri Nov 19 03:56:31 +0000 2021'\n",
      "'Fri Nov 19 03:54:01 +0000 2021'\n",
      "'Fri Nov 19 03:52:00 +0000 2021'\n",
      "'Fri Nov 19 03:49:53 +0000 2021'\n",
      "'Fri Nov 19 03:19:00 +0000 2021'\n",
      "'Fri Nov 19 03:09:53 +0000 2021'\n",
      "'Fri Nov 19 03:05:03 +0000 2021'\n",
      "'Fri Nov 19 03:04:01 +0000 2021'\n",
      "'Fri Nov 19 03:02:00 +0000 2021'\n",
      "'Fri Nov 19 02:55:49 +0000 2021'\n",
      "'Fri Nov 19 02:34:56 +0000 2021'\n",
      "'Fri Nov 19 02:34:00 +0000 2021'\n"
     ]
    },
    {
     "name": "stdout",
     "output_type": "stream",
     "text": [
      "'Fri Nov 19 02:33:42 +0000 2021'\n",
      "'Fri Nov 19 02:31:31 +0000 2021'\n",
      "'Fri Nov 19 02:00:06 +0000 2021'\n",
      "'Fri Nov 19 01:52:00 +0000 2021'\n",
      "'Fri Nov 19 01:49:01 +0000 2021'\n",
      "'Fri Nov 19 01:35:26 +0000 2021'\n",
      "'Fri Nov 19 01:33:31 +0000 2021'\n",
      "'Fri Nov 19 01:20:29 +0000 2021'\n",
      "'Fri Nov 19 01:16:26 +0000 2021'\n",
      "'Fri Nov 19 01:13:58 +0000 2021'\n",
      "'Fri Nov 19 01:11:56 +0000 2021'\n",
      "'Fri Nov 19 01:09:22 +0000 2021'\n",
      "'Fri Nov 19 00:54:48 +0000 2021'\n",
      "'Fri Nov 19 00:51:10 +0000 2021'\n",
      "'Fri Nov 19 00:30:13 +0000 2021'\n",
      "'Fri Nov 19 00:08:09 +0000 2021'\n",
      "'Fri Nov 19 00:03:05 +0000 2021'\n",
      "'Fri Nov 19 00:00:06 +0000 2021'\n",
      "'Thu Nov 18 23:59:09 +0000 2021'\n",
      "'Thu Nov 18 23:51:04 +0000 2021'\n",
      "'Thu Nov 18 23:44:24 +0000 2021'\n",
      "'Thu Nov 18 23:40:02 +0000 2021'\n",
      "'Thu Nov 18 23:40:00 +0000 2021'\n",
      "'Thu Nov 18 23:36:16 +0000 2021'\n",
      "'Thu Nov 18 23:35:02 +0000 2021'\n",
      "'Thu Nov 18 23:34:09 +0000 2021'\n",
      "'Thu Nov 18 23:28:07 +0000 2021'\n",
      "'Thu Nov 18 23:23:27 +0000 2021'\n",
      "'Thu Nov 18 23:21:12 +0000 2021'\n",
      "'Thu Nov 18 23:20:34 +0000 2021'\n",
      "'Thu Nov 18 23:20:02 +0000 2021'\n",
      "'Thu Nov 18 23:18:53 +0000 2021'\n",
      "'Thu Nov 18 23:18:53 +0000 2021'\n",
      "'Thu Nov 18 23:16:47 +0000 2021'\n",
      "'Thu Nov 18 23:14:43 +0000 2021'\n",
      "'Thu Nov 18 23:11:58 +0000 2021'\n",
      "'Thu Nov 18 23:11:10 +0000 2021'\n",
      "'Thu Nov 18 23:10:45 +0000 2021'\n",
      "'Thu Nov 18 23:09:19 +0000 2021'\n",
      "'Thu Nov 18 23:09:12 +0000 2021'\n",
      "'Thu Nov 18 23:04:37 +0000 2021'\n",
      "'Thu Nov 18 23:03:05 +0000 2021'\n",
      "'Thu Nov 18 23:02:22 +0000 2021'\n",
      "'Thu Nov 18 23:00:27 +0000 2021'\n",
      "'Thu Nov 18 23:00:02 +0000 2021'\n",
      "'Thu Nov 18 22:58:30 +0000 2021'\n",
      "'Thu Nov 18 22:53:53 +0000 2021'\n",
      "'Thu Nov 18 22:52:33 +0000 2021'\n",
      "'Thu Nov 18 22:52:04 +0000 2021'\n",
      "'Thu Nov 18 22:50:07 +0000 2021'\n",
      "'Thu Nov 18 22:49:03 +0000 2021'\n",
      "'Thu Nov 18 22:48:14 +0000 2021'\n",
      "'Thu Nov 18 22:46:32 +0000 2021'\n",
      "'Thu Nov 18 22:40:34 +0000 2021'\n",
      "'Thu Nov 18 22:38:18 +0000 2021'\n",
      "'Thu Nov 18 22:36:31 +0000 2021'\n",
      "'Thu Nov 18 22:35:01 +0000 2021'\n",
      "'Thu Nov 18 22:30:04 +0000 2021'\n",
      "'Thu Nov 18 22:29:10 +0000 2021'\n",
      "'Thu Nov 18 22:29:02 +0000 2021'\n",
      "'Thu Nov 18 22:26:46 +0000 2021'\n",
      "'Thu Nov 18 22:25:35 +0000 2021'\n",
      "'Thu Nov 18 22:25:01 +0000 2021'\n",
      "'Thu Nov 18 22:24:00 +0000 2021'\n",
      "'Thu Nov 18 22:22:27 +0000 2021'\n",
      "'Thu Nov 18 22:21:50 +0000 2021'\n",
      "'Thu Nov 18 22:17:19 +0000 2021'\n",
      "'Thu Nov 18 22:15:05 +0000 2021'\n",
      "'Thu Nov 18 22:10:07 +0000 2021'\n",
      "'Thu Nov 18 22:08:35 +0000 2021'\n",
      "'Thu Nov 18 22:03:00 +0000 2021'\n",
      "'Thu Nov 18 22:01:03 +0000 2021'\n",
      "'Thu Nov 18 22:01:03 +0000 2021'\n",
      "'Thu Nov 18 22:00:00 +0000 2021'\n",
      "'Thu Nov 18 21:59:54 +0000 2021'\n",
      "'Thu Nov 18 21:48:23 +0000 2021'\n",
      "'Thu Nov 18 21:44:59 +0000 2021'\n",
      "'Thu Nov 18 21:44:00 +0000 2021'\n",
      "'Thu Nov 18 21:44:00 +0000 2021'\n",
      "'Thu Nov 18 21:35:01 +0000 2021'\n",
      "'Thu Nov 18 21:32:08 +0000 2021'\n",
      "'Thu Nov 18 21:30:58 +0000 2021'\n",
      "'Thu Nov 18 21:30:00 +0000 2021'\n",
      "'Thu Nov 18 21:29:59 +0000 2021'\n",
      "'Thu Nov 18 21:29:03 +0000 2021'\n",
      "'Thu Nov 18 21:29:02 +0000 2021'\n",
      "'Thu Nov 18 21:27:15 +0000 2021'\n",
      "'Thu Nov 18 21:23:08 +0000 2021'\n",
      "'Thu Nov 18 21:23:03 +0000 2021'\n",
      "'Thu Nov 18 21:18:42 +0000 2021'\n",
      "'Thu Nov 18 21:16:37 +0000 2021'\n",
      "'Thu Nov 18 21:16:03 +0000 2021'\n",
      "'Thu Nov 18 21:04:34 +0000 2021'\n",
      "'Thu Nov 18 21:03:48 +0000 2021'\n",
      "'Thu Nov 18 21:03:17 +0000 2021'\n",
      "'Thu Nov 18 21:03:00 +0000 2021'\n",
      "'Thu Nov 18 21:00:22 +0000 2021'\n",
      "'Thu Nov 18 21:00:02 +0000 2021'\n",
      "'Thu Nov 18 20:58:09 +0000 2021'\n",
      "'Thu Nov 18 20:56:53 +0000 2021'\n",
      "'Thu Nov 18 20:53:26 +0000 2021'\n",
      "'Thu Nov 18 20:52:19 +0000 2021'\n",
      "'Thu Nov 18 20:52:07 +0000 2021'\n",
      "'Thu Nov 18 20:47:33 +0000 2021'\n",
      "'Thu Nov 18 20:45:00 +0000 2021'\n",
      "'Thu Nov 18 20:44:21 +0000 2021'\n",
      "'Thu Nov 18 20:37:32 +0000 2021'\n",
      "'Thu Nov 18 20:34:11 +0000 2021'\n",
      "'Thu Nov 18 20:30:04 +0000 2021'\n",
      "'Thu Nov 18 20:30:00 +0000 2021'\n",
      "'Thu Nov 18 20:30:00 +0000 2021'\n",
      "'Thu Nov 18 20:29:01 +0000 2021'\n",
      "'Thu Nov 18 20:25:55 +0000 2021'\n",
      "'Thu Nov 18 20:25:33 +0000 2021'\n",
      "'Thu Nov 18 20:24:35 +0000 2021'\n",
      "'Thu Nov 18 20:23:49 +0000 2021'\n",
      "'Thu Nov 18 20:23:22 +0000 2021'\n",
      "'Thu Nov 18 20:22:52 +0000 2021'\n",
      "'Thu Nov 18 20:21:34 +0000 2021'\n",
      "'Thu Nov 18 20:20:43 +0000 2021'\n",
      "'Thu Nov 18 20:20:00 +0000 2021'\n",
      "'Thu Nov 18 20:19:31 +0000 2021'\n",
      "'Thu Nov 18 20:18:48 +0000 2021'\n",
      "'Thu Nov 18 20:13:56 +0000 2021'\n",
      "'Thu Nov 18 20:13:00 +0000 2021'\n",
      "'Thu Nov 18 20:10:02 +0000 2021'\n",
      "'Thu Nov 18 20:08:40 +0000 2021'\n",
      "'Thu Nov 18 20:05:06 +0000 2021'\n",
      "'Thu Nov 18 20:03:01 +0000 2021'\n",
      "'Thu Nov 18 20:01:24 +0000 2021'\n",
      "'Thu Nov 18 20:00:07 +0000 2021'\n",
      "'Thu Nov 18 20:00:02 +0000 2021'\n",
      "'Thu Nov 18 20:00:00 +0000 2021'\n",
      "'Thu Nov 18 19:52:37 +0000 2021'\n",
      "'Thu Nov 18 19:52:02 +0000 2021'\n",
      "'Thu Nov 18 19:50:02 +0000 2021'\n",
      "'Thu Nov 18 19:48:09 +0000 2021'\n",
      "'Thu Nov 18 19:45:20 +0000 2021'\n",
      "'Thu Nov 18 19:45:00 +0000 2021'\n",
      "'Thu Nov 18 19:41:00 +0000 2021'\n",
      "'Thu Nov 18 19:40:36 +0000 2021'\n",
      "'Thu Nov 18 19:38:16 +0000 2021'\n",
      "'Thu Nov 18 19:38:04 +0000 2021'\n",
      "'Thu Nov 18 19:34:02 +0000 2021'\n"
     ]
    }
   ],
   "source": [
    "since_id_old = 0\n",
    "while(since_id_new != since_id_old):\n",
    "    since_id_old = since_id_new\n",
    "    search_results = rest_api.search.tweets( count=count,q=q,\n",
    "                        geocode=geocode, max_id= since_id_new)\n",
    "    statuses = search_results[\"statuses\"]\n",
    "    since_id_new = statuses[-1]['id']\n",
    "    for statuse in statuses:\n",
    "        try:\n",
    "            tweet_collection.insert_one(statuse)\n",
    "            pprint(statuse['created_at']) # print the date of the collected tweets\n",
    "        except:\n",
    "            pass"
   ]
  },
  {
   "cell_type": "markdown",
   "metadata": {},
   "source": [
    "## View the Collected Tweets"
   ]
  },
  {
   "cell_type": "markdown",
   "metadata": {},
   "source": [
    "Print the number of tweets and unique twitter users"
   ]
  },
  {
   "cell_type": "code",
   "execution_count": 5,
   "metadata": {},
   "outputs": [
    {
     "name": "stdout",
     "output_type": "stream",
     "text": [
      "3971\n",
      "1825\n"
     ]
    }
   ],
   "source": [
    "print(tweet_collection.estimated_document_count())# number of tweets collected\n",
    "\n",
    "user_cursor = tweet_collection.distinct(\"user.id\")\n",
    "print (len(user_cursor)) # number of unique Twitter users "
   ]
  },
  {
   "cell_type": "markdown",
   "metadata": {},
   "source": [
    "Create a text index and print the Tweets containing specific keywords. "
   ]
  },
  {
   "cell_type": "code",
   "execution_count": 6,
   "metadata": {
    "scrolled": false
   },
   "outputs": [
    {
     "data": {
      "text/plain": [
       "'text_index'"
      ]
     },
     "execution_count": 6,
     "metadata": {},
     "output_type": "execute_result"
    }
   ],
   "source": [
    "tweet_collection.create_index([(\"text\", pymongo.TEXT)], name='text_index', default_language='english') # create a text index\n"
   ]
  },
  {
   "cell_type": "markdown",
   "metadata": {},
   "source": [
    "Create a cursor to query tweets with the created index"
   ]
  },
  {
   "cell_type": "code",
   "execution_count": 7,
   "metadata": {},
   "outputs": [],
   "source": [
    "tweet_cursor = tweet_collection.find({\"$text\": {\"$search\": \"covid\"}}) # return tweets contain covid"
   ]
  },
  {
   "cell_type": "markdown",
   "metadata": {},
   "source": [
    "Use pprint to display tweets"
   ]
  },
  {
   "cell_type": "code",
   "execution_count": 8,
   "metadata": {
    "scrolled": false
   },
   "outputs": [
    {
     "name": "stdout",
     "output_type": "stream",
     "text": [
      "----\n",
      "name: Katiedid shedid shedidnt\n",
      "text: @iahphx I think the Covid19 virus is everywhere.  Are these admissions *from* Covid or *with* Covid?\n",
      "----\n",
      "name: Sherry Sherry\n",
      "text: #COVID19 \n",
      "#CovidSurge\n",
      "Covid is now hitting younger people, faster and harder\n",
      "\n",
      "#Covid https://t.co/xhARI9xDia\n",
      "----\n",
      "name: Dr. Rachel Roper\n",
      "text: Young people are not safe from COVID. More than 960,000 children have been hospitalized with COVID in US, and more… https://t.co/AyrOtzyGWW\n",
      "----\n",
      "name: Dr. Rachel Roper\n",
      "text: Detect COVID in HVAC air systems #covid  #COVID19 #covid_19 #coronavirus #corona   https://t.co/GTTTQDmOb5\n",
      "----\n",
      "name: kdawg\n",
      "text: Decent Covid protocols exclude anyone with a significant headache until they rule out COVID-19 with a negative Covi… https://t.co/KPHgTvDwTG\n",
      "----\n",
      "name: WA State Woman\n",
      "text: Ladies, make sure you get your mammogram BEFORE your COVID booster, or wait several weeks after your COVID booster… https://t.co/MAr0ZQTRQp\n",
      "----\n",
      "name: NIHB\n",
      "text: Interested in hearing from Tribal youth about their thoughts on the COVID-19 pandemic and COVID-19 vaccines? Join… https://t.co/EXHlOUBSLD\n",
      "----\n",
      "name: #HANDMADE #SOAP\n",
      "text: COVID-19: News and updates for North Carolina ! Handwashing is important! During the Coronavirus (COVID-19) pandemi… https://t.co/WBZFdrvJl7\n",
      "----\n",
      "name: PATRIOT BANDS 🇺🇸\n",
      "text: 🏥HOSPITALIZATION RISK🏥\n",
      "\n",
      "From Covid (vaccinated): 1 in 13,000\n",
      "From Covid (unvaccinated): 1 in 764\n",
      "From a car acciden… https://t.co/SZgID6gLIW\n",
      "----\n",
      "name: Sky Health, LLC\n",
      "text: Coronavirus (COVID-19) Update: FDA Expands Eligibility for COVID-19 Vaccine Boosters ⁦@US_FDA⁩ #COVID19… https://t.co/vAO6yesmz0\n"
     ]
    }
   ],
   "source": [
    "\n",
    "for document in tweet_cursor[0:10]: # display the first 10 tweets from the query\n",
    "    try:\n",
    "        print ('----')\n",
    "#         pprint (document) # use pprint to print the entire tweet document\n",
    "   \n",
    "        print ('name:', document[\"user\"][\"name\"]) # user name\n",
    "        print ('text:', document[\"text\"])         # tweets\n",
    "    except:\n",
    "        print (\"***error in encoding\")\n",
    "        pass"
   ]
  },
  {
   "cell_type": "code",
   "execution_count": 9,
   "metadata": {},
   "outputs": [],
   "source": [
    "tweet_cursor = tweet_collection.find({\"$text\": {\"$search\": \"vote\"}}) # return tweets contain vote"
   ]
  },
  {
   "cell_type": "markdown",
   "metadata": {},
   "source": [
    "Use pandas to display tweets"
   ]
  },
  {
   "cell_type": "code",
   "execution_count": 10,
   "metadata": {},
   "outputs": [
    {
     "data": {
      "text/html": [
       "<div>\n",
       "<style scoped>\n",
       "    .dataframe tbody tr th:only-of-type {\n",
       "        vertical-align: middle;\n",
       "    }\n",
       "\n",
       "    .dataframe tbody tr th {\n",
       "        vertical-align: top;\n",
       "    }\n",
       "\n",
       "    .dataframe thead th {\n",
       "        text-align: right;\n",
       "    }\n",
       "</style>\n",
       "<table border=\"1\" class=\"dataframe\">\n",
       "  <thead>\n",
       "    <tr style=\"text-align: right;\">\n",
       "      <th></th>\n",
       "      <th>_id</th>\n",
       "      <th>created_at</th>\n",
       "      <th>id</th>\n",
       "      <th>id_str</th>\n",
       "      <th>text</th>\n",
       "      <th>truncated</th>\n",
       "      <th>entities</th>\n",
       "      <th>metadata</th>\n",
       "      <th>source</th>\n",
       "      <th>in_reply_to_status_id</th>\n",
       "      <th>...</th>\n",
       "      <th>coordinates</th>\n",
       "      <th>place</th>\n",
       "      <th>contributors</th>\n",
       "      <th>is_quote_status</th>\n",
       "      <th>retweet_count</th>\n",
       "      <th>favorite_count</th>\n",
       "      <th>favorited</th>\n",
       "      <th>retweeted</th>\n",
       "      <th>possibly_sensitive</th>\n",
       "      <th>lang</th>\n",
       "    </tr>\n",
       "  </thead>\n",
       "  <tbody>\n",
       "    <tr>\n",
       "      <th>0</th>\n",
       "      <td>61980405e18ca87e95dbd920</td>\n",
       "      <td>Mon Nov 15 06:07:19 +0000 2021</td>\n",
       "      <td>1460127252054745090</td>\n",
       "      <td>1460127252054745090</td>\n",
       "      <td>#Venezuelans are voting against #Cuba's experi...</td>\n",
       "      <td>True</td>\n",
       "      <td>{'hashtags': [{'text': 'Venezuelans', 'indices...</td>\n",
       "      <td>{'iso_language_code': 'en', 'result_type': 're...</td>\n",
       "      <td>&lt;a href=\"https://mobile.twitter.com\" rel=\"nofo...</td>\n",
       "      <td>NaN</td>\n",
       "      <td>...</td>\n",
       "      <td>None</td>\n",
       "      <td>None</td>\n",
       "      <td>None</td>\n",
       "      <td>False</td>\n",
       "      <td>1</td>\n",
       "      <td>4</td>\n",
       "      <td>False</td>\n",
       "      <td>False</td>\n",
       "      <td>False</td>\n",
       "      <td>en</td>\n",
       "    </tr>\n",
       "    <tr>\n",
       "      <th>1</th>\n",
       "      <td>61980410e18ca87e95dbdb7c</td>\n",
       "      <td>Fri Nov 12 23:11:32 +0000 2021</td>\n",
       "      <td>1459297840379871232</td>\n",
       "      <td>1459297840379871232</td>\n",
       "      <td>#Latvia bans #COVID19 unvaccinated lawmakers f...</td>\n",
       "      <td>False</td>\n",
       "      <td>{'hashtags': [{'text': 'Latvia', 'indices': [0...</td>\n",
       "      <td>{'iso_language_code': 'en', 'result_type': 're...</td>\n",
       "      <td>&lt;a href=\"http://twitter.com/download/iphone\" r...</td>\n",
       "      <td>NaN</td>\n",
       "      <td>...</td>\n",
       "      <td>None</td>\n",
       "      <td>None</td>\n",
       "      <td>None</td>\n",
       "      <td>False</td>\n",
       "      <td>0</td>\n",
       "      <td>1</td>\n",
       "      <td>False</td>\n",
       "      <td>False</td>\n",
       "      <td>False</td>\n",
       "      <td>en</td>\n",
       "    </tr>\n",
       "    <tr>\n",
       "      <th>2</th>\n",
       "      <td>61980418e18ca87e95dbdd04</td>\n",
       "      <td>Fri Nov 12 05:54:40 +0000 2021</td>\n",
       "      <td>1459036907074109440</td>\n",
       "      <td>1459036907074109440</td>\n",
       "      <td>@LBC @MaajidNawaz Chinese influence goes furth...</td>\n",
       "      <td>True</td>\n",
       "      <td>{'hashtags': [], 'symbols': [], 'user_mentions...</td>\n",
       "      <td>{'iso_language_code': 'en', 'result_type': 're...</td>\n",
       "      <td>&lt;a href=\"http://twitter.com/download/android\" ...</td>\n",
       "      <td>1.322929e+18</td>\n",
       "      <td>...</td>\n",
       "      <td>None</td>\n",
       "      <td>None</td>\n",
       "      <td>None</td>\n",
       "      <td>False</td>\n",
       "      <td>0</td>\n",
       "      <td>0</td>\n",
       "      <td>False</td>\n",
       "      <td>False</td>\n",
       "      <td>NaN</td>\n",
       "      <td>en</td>\n",
       "    </tr>\n",
       "    <tr>\n",
       "      <th>3</th>\n",
       "      <td>619803d7e18ca87e95dbd03a</td>\n",
       "      <td>Fri Nov 19 15:56:30 +0000 2021</td>\n",
       "      <td>1461725078656196610</td>\n",
       "      <td>1461725078656196610</td>\n",
       "      <td>@dougducey has totally FAILED Arizonans with 2...</td>\n",
       "      <td>True</td>\n",
       "      <td>{'hashtags': [], 'symbols': [], 'user_mentions...</td>\n",
       "      <td>{'iso_language_code': 'en', 'result_type': 're...</td>\n",
       "      <td>&lt;a href=\"https://mobile.twitter.com\" rel=\"nofo...</td>\n",
       "      <td>NaN</td>\n",
       "      <td>...</td>\n",
       "      <td>None</td>\n",
       "      <td>None</td>\n",
       "      <td>None</td>\n",
       "      <td>False</td>\n",
       "      <td>0</td>\n",
       "      <td>0</td>\n",
       "      <td>False</td>\n",
       "      <td>False</td>\n",
       "      <td>NaN</td>\n",
       "      <td>en</td>\n",
       "    </tr>\n",
       "    <tr>\n",
       "      <th>4</th>\n",
       "      <td>619803d6e18ca87e95dbcff4</td>\n",
       "      <td>Fri Nov 19 17:21:35 +0000 2021</td>\n",
       "      <td>1461746488137199618</td>\n",
       "      <td>1461746488137199618</td>\n",
       "      <td>CDC ACIP meeting begins. Vote at 245pm ET.\\n\\n...</td>\n",
       "      <td>True</td>\n",
       "      <td>{'hashtags': [], 'symbols': [], 'user_mentions...</td>\n",
       "      <td>{'iso_language_code': 'en', 'result_type': 're...</td>\n",
       "      <td>&lt;a href=\"https://mobile.twitter.com\" rel=\"nofo...</td>\n",
       "      <td>NaN</td>\n",
       "      <td>...</td>\n",
       "      <td>None</td>\n",
       "      <td>None</td>\n",
       "      <td>None</td>\n",
       "      <td>False</td>\n",
       "      <td>13</td>\n",
       "      <td>125</td>\n",
       "      <td>False</td>\n",
       "      <td>False</td>\n",
       "      <td>False</td>\n",
       "      <td>en</td>\n",
       "    </tr>\n",
       "  </tbody>\n",
       "</table>\n",
       "<p>5 rows × 26 columns</p>\n",
       "</div>"
      ],
      "text/plain": [
       "                        _id                      created_at  \\\n",
       "0  61980405e18ca87e95dbd920  Mon Nov 15 06:07:19 +0000 2021   \n",
       "1  61980410e18ca87e95dbdb7c  Fri Nov 12 23:11:32 +0000 2021   \n",
       "2  61980418e18ca87e95dbdd04  Fri Nov 12 05:54:40 +0000 2021   \n",
       "3  619803d7e18ca87e95dbd03a  Fri Nov 19 15:56:30 +0000 2021   \n",
       "4  619803d6e18ca87e95dbcff4  Fri Nov 19 17:21:35 +0000 2021   \n",
       "\n",
       "                    id               id_str  \\\n",
       "0  1460127252054745090  1460127252054745090   \n",
       "1  1459297840379871232  1459297840379871232   \n",
       "2  1459036907074109440  1459036907074109440   \n",
       "3  1461725078656196610  1461725078656196610   \n",
       "4  1461746488137199618  1461746488137199618   \n",
       "\n",
       "                                                text  truncated  \\\n",
       "0  #Venezuelans are voting against #Cuba's experi...       True   \n",
       "1  #Latvia bans #COVID19 unvaccinated lawmakers f...      False   \n",
       "2  @LBC @MaajidNawaz Chinese influence goes furth...       True   \n",
       "3  @dougducey has totally FAILED Arizonans with 2...       True   \n",
       "4  CDC ACIP meeting begins. Vote at 245pm ET.\\n\\n...       True   \n",
       "\n",
       "                                            entities  \\\n",
       "0  {'hashtags': [{'text': 'Venezuelans', 'indices...   \n",
       "1  {'hashtags': [{'text': 'Latvia', 'indices': [0...   \n",
       "2  {'hashtags': [], 'symbols': [], 'user_mentions...   \n",
       "3  {'hashtags': [], 'symbols': [], 'user_mentions...   \n",
       "4  {'hashtags': [], 'symbols': [], 'user_mentions...   \n",
       "\n",
       "                                            metadata  \\\n",
       "0  {'iso_language_code': 'en', 'result_type': 're...   \n",
       "1  {'iso_language_code': 'en', 'result_type': 're...   \n",
       "2  {'iso_language_code': 'en', 'result_type': 're...   \n",
       "3  {'iso_language_code': 'en', 'result_type': 're...   \n",
       "4  {'iso_language_code': 'en', 'result_type': 're...   \n",
       "\n",
       "                                              source  in_reply_to_status_id  \\\n",
       "0  <a href=\"https://mobile.twitter.com\" rel=\"nofo...                    NaN   \n",
       "1  <a href=\"http://twitter.com/download/iphone\" r...                    NaN   \n",
       "2  <a href=\"http://twitter.com/download/android\" ...           1.322929e+18   \n",
       "3  <a href=\"https://mobile.twitter.com\" rel=\"nofo...                    NaN   \n",
       "4  <a href=\"https://mobile.twitter.com\" rel=\"nofo...                    NaN   \n",
       "\n",
       "   ... coordinates  place contributors is_quote_status retweet_count  \\\n",
       "0  ...        None   None         None           False             1   \n",
       "1  ...        None   None         None           False             0   \n",
       "2  ...        None   None         None           False             0   \n",
       "3  ...        None   None         None           False             0   \n",
       "4  ...        None   None         None           False            13   \n",
       "\n",
       "  favorite_count favorited retweeted possibly_sensitive  lang  \n",
       "0              4     False     False              False    en  \n",
       "1              1     False     False              False    en  \n",
       "2              0     False     False                NaN    en  \n",
       "3              0     False     False                NaN    en  \n",
       "4            125     False     False              False    en  \n",
       "\n",
       "[5 rows x 26 columns]"
      ]
     },
     "execution_count": 10,
     "metadata": {},
     "output_type": "execute_result"
    }
   ],
   "source": [
    "tweet_df = pd.DataFrame(list(tweet_cursor ))\n",
    "tweet_df[:10] #display the first 10 tweets"
   ]
  },
  {
   "cell_type": "code",
   "execution_count": 11,
   "metadata": {},
   "outputs": [
    {
     "data": {
      "text/plain": [
       "<AxesSubplot:>"
      ]
     },
     "execution_count": 11,
     "metadata": {},
     "output_type": "execute_result"
    },
    {
     "data": {
      "image/png": "[encoded data removed]",
      "text/plain": [
       "<Figure size 432x288 with 1 Axes>"
      ]
     },
     "metadata": {
      "needs_background": "light"
     },
     "output_type": "display_data"
    }
   ],
   "source": [
    "tweet_df[\"favorite_count\"].hist() # create a histogram show the favorite count"
   ]
  },
  {
   "cell_type": "code",
   "execution_count": null,
   "metadata": {},
   "outputs": [],
   "source": []
  }
 ],
 "metadata": {
  "kernelspec": {
   "display_name": "conda_python3",
   "language": "python",
   "name": "conda_python3"
  },
  "language_info": {
   "codemirror_mode": {
    "name": "ipython",
    "version": 3
   },
   "file_extension": ".py",
   "mimetype": "text/x-python",
   "name": "python",
   "nbconvert_exporter": "python",
   "pygments_lexer": "ipython3",
   "version": "3.6.13"
  }
 },
 "nbformat": 4,
 "nbformat_minor": 2
}
